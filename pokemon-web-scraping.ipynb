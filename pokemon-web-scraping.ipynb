{
 "cells": [
  {
   "cell_type": "code",
   "execution_count": 1,
   "metadata": {},
   "outputs": [],
   "source": [
    "from lxml import html\n",
    "import requests\n",
    "\n",
    "import pandas as pd\n",
    "import numpy as np"
   ]
  },
  {
   "cell_type": "markdown",
   "metadata": {},
   "source": [
    "###### Get the page which we will scrape"
   ]
  },
  {
   "cell_type": "code",
   "execution_count": 2,
   "metadata": {},
   "outputs": [],
   "source": [
    "url = 'https://pokemondb.net/pokedex/national'\n",
    "page = requests.get(url)"
   ]
  },
  {
   "cell_type": "markdown",
   "metadata": {},
   "source": [
    "###### Use the library function to create xml tree"
   ]
  },
  {
   "cell_type": "code",
   "execution_count": 3,
   "metadata": {},
   "outputs": [],
   "source": [
    "tree = html.fromstring(page.content)"
   ]
  },
  {
   "cell_type": "markdown",
   "metadata": {},
   "source": [
    "###### Find the Pokedex entry for the pokemon"
   ]
  },
  {
   "cell_type": "code",
   "execution_count": 4,
   "metadata": {},
   "outputs": [],
   "source": [
    "pokedex_numbers = np.array(tree.xpath('//div//small/text()'), dtype = np.str)\n",
    "pokedex_numbers = [entry for entry in pokedex_numbers if entry[0] == '#']\n",
    "\n",
    "## pokedex = pd.DataFrame(data=pokedex_numbers, columns=[\"pokedex_number\"])"
   ]
  },
  {
   "cell_type": "markdown",
   "metadata": {},
   "source": [
    "###### Get some of the details of the pokemon"
   ]
  },
  {
   "cell_type": "code",
   "execution_count": 26,
   "metadata": {},
   "outputs": [],
   "source": [
    "pokemon_names = np.array(tree.xpath('//a[@class = \"ent-name\"]/text()'), dtype = np.str)\n",
    "pokemon_name_type = np.array(tree.xpath('//div[@class =\"infocard \"]//a/text()'), dtype = np.str)"
   ]
  },
  {
   "cell_type": "code",
   "execution_count": 23,
   "metadata": {},
   "outputs": [],
   "source": [
    "pokemon_type = {}\n",
    "current_key = None\n",
    "for entry in pokemon_name_type:\n",
    "    if entry in pokemon_names:\n",
    "        current_key = entry\n",
    "    else:\n",
    "        if current_key not in pokemon_type.keys():\n",
    "            pokemon_type[current_key] = []\n",
    "        pokemon_type[current_key].append(entry)"
   ]
  },
  {
   "cell_type": "code",
   "execution_count": 24,
   "metadata": {
    "pycharm": {
     "name": "#%%\n"
    }
   },
   "outputs": [
    {
     "name": "stdout",
     "output_type": "stream",
     "text": [
      "893\n",
      "893\n",
      "893\n"
     ]
    }
   ],
   "source": [
    "print(len(pokemon_links))\n",
    "print(len(pokedex_numbers))\n",
    "print(len(pokemon_names))"
   ]
  },
  {
   "cell_type": "code",
   "execution_count": 28,
   "metadata": {
    "pycharm": {
     "name": "#%%\n"
    }
   },
   "outputs": [
    {
     "name": "stdout",
     "output_type": "stream",
     "text": [
      "['/pokedex/bulbasaur' '/pokedex/ivysaur' '/pokedex/venusaur'\n",
      " '/pokedex/charmander' '/pokedex/charmeleon' '/pokedex/charizard'\n",
      " '/pokedex/squirtle' '/pokedex/wartortle' '/pokedex/blastoise'\n",
      " '/pokedex/caterpie']\n",
      "['https://pokemondb.net' 'https://pokemondb.net' 'https://pokemondb.net'\n",
      " 'https://pokemondb.net' 'https://pokemondb.net' 'https://pokemondb.net'\n",
      " 'https://pokemondb.net' 'https://pokemondb.net' 'https://pokemondb.net'\n",
      " 'https://pokemondb.net']\n"
     ]
    }
   ],
   "source": [
    "pokemon_links = np.array(tree.xpath('//a[@class = \"ent-name\"]/@href'), dtype = np.str)\n",
    "html_links = pokemon_links.copy()\n",
    "print(pokemon_links[0:10])\n",
    "to_append = \"https://pokemondb.net\"\n",
    "for idx, link in enumerate(pokemon_links):\n",
    "    html_links[idx] = str. to_append + link\n",
    "print(html_links[0:10])"
   ]
  },
  {
   "cell_type": "code",
   "execution_count": null,
   "metadata": {},
   "outputs": [],
   "source": []
  }
 ],
 "metadata": {
  "kernelspec": {
   "display_name": "Python 3",
   "language": "python",
   "name": "python3"
  },
  "language_info": {
   "codemirror_mode": {
    "name": "ipython",
    "version": 3
   },
   "file_extension": ".py",
   "mimetype": "text/x-python",
   "name": "python",
   "nbconvert_exporter": "python",
   "pygments_lexer": "ipython3",
   "version": "3.8.5"
  },
  "latex_envs": {
   "LaTeX_envs_menu_present": true,
   "autoclose": false,
   "autocomplete": true,
   "bibliofile": "biblio.bib",
   "cite_by": "apalike",
   "current_citInitial": 1,
   "eqLabelWithNumbers": true,
   "eqNumInitial": 1,
   "hotkeys": {
    "equation": "Ctrl-E",
    "itemize": "Ctrl-I"
   },
   "labels_anchors": false,
   "latex_user_defs": false,
   "report_style_numbering": false,
   "user_envs_cfg": false
  }
 },
 "nbformat": 4,
 "nbformat_minor": 4
}
